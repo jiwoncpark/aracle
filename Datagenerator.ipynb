{
 "cells": [
  {
   "cell_type": "code",
   "execution_count": null,
   "metadata": {},
   "outputs": [],
   "source": [
    "import os\n",
    "import astropy.units as u\n",
    "import warnings\n",
    "from sunpy.net import Fido,attrs\n",
    "from datetime import date, time, datetime, timedelta\n",
    "from astropy.io import fits"
   ]
  },
  {
   "cell_type": "markdown",
   "metadata": {},
   "source": [
    "# Data file generator (title)\n",
    "\n",
    "### Author: Alex Feghhi \n",
    "### Created: 7/30/2019\n",
    "### Last run: 8/01/2019 \n",
    "\n",
    "### Goals:\n",
    "- Downloads sharp files from a given date range and extracts and stores given keywords into a textfile"
   ]
  },
  {
   "cell_type": "markdown",
   "metadata": {},
   "source": [
    "Generate work directory and sharp storage directory"
   ]
  },
  {
   "cell_type": "code",
   "execution_count": null,
   "metadata": {},
   "outputs": [],
   "source": [
    "workdir = 'C:/Users/alexf/Desktop/HMI_Data/'\n",
    "sharp_dir = workdir + 'sharp/'\n",
    "\n",
    "if not os.path.exists(workdir):\n",
    "    os.mkdir(workdir)\n",
    "    print(\"Directory \" + workdir + \"does not exist. Creating...\")\n",
    "\n",
    "if not os.path.exists(sharp_dir):\n",
    "    os.mkdir(sharp_dir)\n",
    "    print(\"Directory \" + sharp_dir + \"does not exist. Creating...\")"
   ]
  },
  {
   "cell_type": "markdown",
   "metadata": {},
   "source": [
    "Define start,end time, time interval between harps, and download chunk size"
   ]
  },
  {
   "cell_type": "code",
   "execution_count": null,
   "metadata": {},
   "outputs": [],
   "source": [
    "start = datetime(2010, 5, 1,0,0,0)#date time object format is year, month, day, hour, minute, second\n",
    "end = datetime(2011, 5, 1,0,0,0)#currently generating a year of data\n",
    "time_interval = timedelta(minutes = 60)\n",
    "download_chunk = timedelta(days = 20)#avoid download chunks greater than 1 month in order to not download too much at once"
   ]
  },
  {
   "cell_type": "markdown",
   "metadata": {},
   "source": [
    "## This Cell downloads all sharp files in the given time range from the jsoc server. Only run once."
   ]
  },
  {
   "cell_type": "code",
   "execution_count": null,
   "metadata": {},
   "outputs": [],
   "source": [
    "current_time = start\n",
    "while(current_time < end):\n",
    "    if(end-current_time > download_chunk):\n",
    "        next_time = current_time + download_chunk\n",
    "    else:\n",
    "        next_time = end\n",
    "    response = Fido.search(\n",
    "    attrs.jsoc.Time(current_time, next_time),\n",
    "    attrs.jsoc.Notify('hsmgroupnasa@gmail.com'),\n",
    "    attrs.jsoc.Series('hmi.Sharp_720s'),\n",
    "    attrs.jsoc.Segment('bitmap'),\n",
    "    attrs.Sample(time_interval.total_seconds() * u.s)\n",
    "    )\n",
    "    response\n",
    "    res = Fido.fetch(response, path= sharp_dir + '/{file}.fits')\n",
    "    current_time = next_time"
   ]
  },
  {
   "cell_type": "markdown",
   "metadata": {},
   "source": [
    "## This Cell iterates over all downloaded sharp files and extracts the given keywords in order on to a text file, which is saved as data.txt in the workdir"
   ]
  },
  {
   "cell_type": "code",
   "execution_count": null,
   "metadata": {},
   "outputs": [],
   "source": [
    "warnings.simplefilter(\"ignore\")#.verify('fix') produces many warnings which will lag the jupyter notebook\n",
    "\n",
    "keywords = ['HARPNUM','T_REC','NAXIS1','NAXIS2','CDELT1','CDELT2','IMCRPIX1','IMCRPIX2','LAT_FWT','LON_FWT','NPIX']#Keywords in order to be saved\n",
    "filenames = os.listdir(sharp_dir)\n",
    "filename = 'data.txt'\n",
    "\n",
    "data = open(workdir + filename,\"w+\")\n",
    "line = ''\n",
    "for keyword in keywords:\n",
    "    line += keyword + ' '\n",
    "data.write(line + \"\\n\")\n",
    "for filename in filenames:\n",
    "    line = ''\n",
    "    hdul = fits.open(sharp_dir + filename)\n",
    "    hdul.verify('fix')\n",
    "    for keyword in keywords:\n",
    "        line += str(hdul[1].header[keyword]) + ' '\n",
    "    data.write(line + '\\n')\n",
    "    hdul.close()\n",
    "data.close()"
   ]
  }
 ],
 "metadata": {
  "kernelspec": {
   "display_name": "Python 3",
   "language": "python",
   "name": "python3"
  },
  "language_info": {
   "codemirror_mode": {
    "name": "ipython",
    "version": 3
   },
   "file_extension": ".py",
   "mimetype": "text/x-python",
   "name": "python",
   "nbconvert_exporter": "python",
   "pygments_lexer": "ipython3",
   "version": "3.7.3"
  }
 },
 "nbformat": 4,
 "nbformat_minor": 2
}
