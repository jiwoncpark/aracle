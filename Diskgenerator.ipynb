{
 "cells": [
  {
   "cell_type": "code",
   "execution_count": 1,
   "metadata": {},
   "outputs": [],
   "source": [
    "import numpy as np\n",
    "import astropy.units as u\n",
    "import re\n",
    "import os\n",
    "import skvideo.io\n",
    "import math\n",
    "import sunpy.coordinates\n",
    "import shutil\n",
    "import pandas as pd\n",
    "from datetime import date, time, datetime, timedelta\n",
    "from astropy.coordinates import SkyCoord\n",
    "from sunpy.coordinates import frames\n",
    "from PIL import Image, ImageDraw"
   ]
  },
  {
   "cell_type": "markdown",
   "metadata": {},
   "source": [
    "# Generating Disks\n",
    "\n",
    "### Author: Alex Feghhi \n",
    "### Created: 7/30/2019\n",
    "### Last run: 8/1/2019\n",
    "\n",
    "### Goals:\n",
    "- Reads in a data text file containing relevant keywords\n",
    "- Outputs time-labeled disks from the given start to end dates"
   ]
  },
  {
   "cell_type": "markdown",
   "metadata": {},
   "source": [
    "Generate work directory and directory to store output files"
   ]
  },
  {
   "cell_type": "code",
   "execution_count": 2,
   "metadata": {},
   "outputs": [],
   "source": [
    "workdir = 'C:/Users/alexf/Desktop/HMI_Data/'\n",
    "Ydata_dir =  workdir + 'Ydata/'\n",
    "Ydata_cut =  workdir + 'Ydata_cut/'\n",
    "\n",
    "if not os.path.exists(workdir):\n",
    "    os.mkdir(workdir)\n",
    "    print(\"Directory \" + workdir + \"does not exist. Creating...\")\n",
    "\n",
    "if not os.path.exists(Ydata_dir):\n",
    "    os.mkdir(Ydata_dir)\n",
    "    print(\"Directory \" + Ydata_dir + \"does not exist. Creating...\")\n",
    "    \n",
    "if not os.path.exists(Ydata_cut):\n",
    "    os.mkdir(Ydata_cut)\n",
    "    print(\"Directory \" + Ydata_cut + \"does not exist. Creating...\")"
   ]
  },
  {
   "cell_type": "markdown",
   "metadata": {},
   "source": [
    "Open and parse data into a Pandas dataframe\n",
    "\n",
    "Data text file generated through downloading sharp files from jsoc and extracting keywords. Jupyter notebook here: (link to Jupyter notebook)"
   ]
  },
  {
   "cell_type": "code",
   "execution_count": 3,
   "metadata": {},
   "outputs": [],
   "source": [
    "data = open(workdir + 'data.txt','r')\n",
    "lines = data.readlines()\n",
    "header = lines[0].split()\n",
    "del lines[0]\n",
    "df = pd.DataFrame([line.split() for line in lines],columns=header)"
   ]
  },
  {
   "cell_type": "markdown",
   "metadata": {},
   "source": [
    "Clear all nan rows"
   ]
  },
  {
   "cell_type": "code",
   "execution_count": null,
   "metadata": {},
   "outputs": [],
   "source": []
  },
  {
   "cell_type": "markdown",
   "metadata": {},
   "source": [
    "Generate a radius dictionary by finding the max number of pixels per harp, then the maximum height/width at the time, and then dividing by 2.\n",
    "\n",
    "NPIX is number of pixels, NAXIS1 and NAXIS2 are height and width in pixels"
   ]
  },
  {
   "cell_type": "code",
   "execution_count": 4,
   "metadata": {},
   "outputs": [
    {
     "name": "stderr",
     "output_type": "stream",
     "text": [
      "C:\\Users\\alexf\\AppData\\Local\\Continuum\\anaconda3\\lib\\site-packages\\ipykernel_launcher.py:2: SettingWithCopyWarning: \n",
      "A value is trying to be set on a copy of a slice from a DataFrame.\n",
      "Try using .loc[row_indexer,col_indexer] = value instead\n",
      "\n",
      "See the caveats in the documentation: http://pandas.pydata.org/pandas-docs/stable/indexing.html#indexing-view-versus-copy\n",
      "  \n"
     ]
    }
   ],
   "source": [
    "max_radius_rows = df[df.groupby(['HARPNUM'])['NPIX'].transform(max) == df['NPIX']]#isolate all rows with the max npix per harp\n",
    "max_radius_rows['RADIUS'] = max_radius_rows[['NAXIS1', 'NAXIS2']].max(axis=1)/2#find the max height/width then divide by 2\n",
    "radius_dict = pd.Series(max_radius_rows.RADIUS.values,index=max_radius_rows.HARPNUM).to_dict()"
   ]
  },
  {
   "cell_type": "markdown",
   "metadata": {},
   "source": [
    "Dates selected to generate data for one year"
   ]
  },
  {
   "cell_type": "code",
   "execution_count": 9,
   "metadata": {},
   "outputs": [],
   "source": [
    "start = datetime(2010, 5, 1,0,0,0)#date time object format is year, month, day, hour, minute, second\n",
    "end = datetime(2011,5, 1, 0,0,0)#the end time is included amongst disks generated\n",
    "time_interval = timedelta(minutes = 60)"
   ]
  },
  {
   "cell_type": "markdown",
   "metadata": {},
   "source": [
    "The original image size is 4096 x 4096, we downsample to 256 x 256 for compactness. Also deletes and creates directories for each image size"
   ]
  },
  {
   "cell_type": "markdown",
   "metadata": {},
   "source": [
    "Explain choice of dates (small sample to test code?)\n",
    "\n",
    "Chose time period in demo video (include link)"
   ]
  },
  {
   "cell_type": "code",
   "execution_count": 11,
   "metadata": {},
   "outputs": [],
   "source": [
    "output_sizes = [256]\n",
    "for size in output_sizes:\n",
    "    resize_dir = Ydata_dir + str(size)\n",
    "    if  os.path.exists(resize_dir):#delete any resizing directories matching the new resizes\n",
    "        shutil.rmtree(resize_dir)\n",
    "    os.makedirs(resize_dir)\n",
    "    resize_dir_cut = Ydata_cut + str(size)\n",
    "    if  os.path.exists(resize_dir_cut):#delete any resizing directories matching the new resizes\n",
    "        shutil.rmtree(resize_dir_cut)\n",
    "    os.makedirs(resize_dir_cut)"
   ]
  },
  {
   "cell_type": "markdown",
   "metadata": {},
   "source": [
    "Code to generate disks from the start to the end time"
   ]
  },
  {
   "cell_type": "code",
   "execution_count": 12,
   "metadata": {},
   "outputs": [],
   "source": [
    "number_disks = int((end-start)/time_interval + 1)\n",
    "for i in range(number_disks):\n",
    "    time = start + i*time_interval\n",
    "    timestring = time.strftime('%Y' + '.' + '%m' + '.' + '%d' + '_' + '%X' + '_TAI')\n",
    "    obstimestring = time.strftime('%Y' + '-' + '%m' + '-' + '%d')\n",
    "    rows = df.loc[df['T_REC'] == timestring].reset_index()\n",
    "    disk = Image.new('1', (4096, 4096), color='black') # black/white canvas, initialized to zeros\n",
    "    draw = ImageDraw.Draw(disk)\n",
    "    if (not(rows.empty)):\n",
    "        for index, row in rows.iterrows():#iterate over rows\n",
    "            hpc1 = SkyCoord(float(rows.iloc[index]['LON_FWT'])*u.deg, float(rows.iloc[index]['LAT_FWT'])*u.deg, frame=frames.HeliographicStonyhurst, obstime=obstimestring)\n",
    "            hpc_out = sunpy.coordinates.Helioprojective(observer='earth', obstime=obstimestring) # arcsec\n",
    "            hpc2 = hpc1.transform_to(hpc_out) # convert to arcsecond\n",
    "            xc = (hpc2.Tx / u.arcsec) # stripping units\n",
    "            yc = (hpc2.Ty / u.arcsec)\n",
    "            xc = (xc/float(rows.iloc[index]['CDELT1'])) + float(rows.iloc[index]['IMCRPIX1']) # convert to pixel value\n",
    "            yc = (yc/float(rows.iloc[index]['CDELT2'])) + float(rows.iloc[index]['IMCRPIX2'])\n",
    "            radius = radius_dict[rows.iloc[index]['HARPNUM']]\n",
    "            draw.ellipse((xc-radius,yc-radius,xc+radius,yc+radius), 'white')\n",
    "    for size in output_sizes:\n",
    "        data = np.flipud(np.array(disk.resize((size,size), Image.BILINEAR))).astype(int)#remove.astype(int) to save as boolean\n",
    "        np.save(Ydata_dir + str(size) + '/' + time.strftime('%Y' + '%m' + '%d' + '_' + '%H' +'%M' + '%S') + '_' + str(size), data)\n",
    "        xycorner_dist = 2048 - (math.sqrt(2) * 2048 / 2)\n",
    "        data_cut = np.flipud(disk.crop((xycorner_dist,xycorner_dist,4096-xycorner_dist,4096-xycorner_dist)).resize((size,size), Image.BILINEAR)).astype(int)\n",
    "        np.save(Ydata_cut + str(size) + '/' + time.strftime('%Y' + '%m' + '%d' + '_' + '%H' +'%M' + '%S') + '_' + str(size) + '_cut', data_cut)\n"
   ]
  },
  {
   "cell_type": "code",
   "execution_count": 13,
   "metadata": {},
   "outputs": [],
   "source": [
    "#create video function with (start,end,size)\n",
    "def generate_video(start,end,size):\n",
    "    video_dir = Ydata_dir + str(size) + '/'\n",
    "    array_filenames = os.listdir(video_dir)\n",
    "    start_index = array_filenames.index(start.strftime('%Y' + '%m' + '%d' + '_' + '%H' +'%M' + '%S') + '_' + str(size) + '.npy')\n",
    "    end_index = array_filenames.index(end.strftime('%Y' + '%m' + '%d' + '_' + '%H' +'%M' + '%S') + '_' + str(size) + '.npy')\n",
    "    outputdata = np.zeros((end_index + 1 - start_index, size, size))\n",
    "    index = 0\n",
    "    for filename in array_filenames[start_index:end_index + 1]:\n",
    "        outputdata[index,:,:] = (1 - np.load(video_dir + filename)) * 255\n",
    "        index = index + 1\n",
    "    skvideo.io.vwrite(video_dir + 'outputvideo_'+str(size) +'.mp4', outputdata)\n",
    "\n",
    "for size in output_sizes:\n",
    "    generate_video(start,end,size)"
   ]
  },
  {
   "cell_type": "code",
   "execution_count": 12,
   "metadata": {},
   "outputs": [],
   "source": [
    "#create video function with (start,end,size)\n",
    "def generate_video_cut(start,end,size):\n",
    "    video_dir = Ydata_cut + str(size) + '/'\n",
    "    array_filenames = os.listdir(video_dir)\n",
    "    start_index = array_filenames.index(start.strftime('%Y' + '%m' + '%d' + '_' + '%H' +'%M' + '%S') + '_' + str(size) + '_cut.npy')\n",
    "    end_index = array_filenames.index(end.strftime('%Y' + '%m' + '%d' + '_' + '%H' +'%M' + '%S') + '_' + str(size) + '_cut.npy')\n",
    "    outputdata = np.zeros((end_index + 1 - start_index, size, size))\n",
    "    index = 0\n",
    "    for filename in array_filenames[start_index:end_index + 1]:\n",
    "        outputdata[index,:,:] = (1 - np.load(video_dir + filename)) * 255\n",
    "        index = index + 1\n",
    "    skvideo.io.vwrite(video_dir + 'outputvideo_'+str(size) +'_cut.mp4', outputdata)\n",
    "\n",
    "for size in output_sizes:\n",
    "    generate_video_cut(start,end,size)"
   ]
  }
 ],
 "metadata": {
  "kernelspec": {
   "display_name": "Python 3",
   "language": "python",
   "name": "python3"
  },
  "language_info": {
   "codemirror_mode": {
    "name": "ipython",
    "version": 3
   },
   "file_extension": ".py",
   "mimetype": "text/x-python",
   "name": "python",
   "nbconvert_exporter": "python",
   "pygments_lexer": "ipython3",
   "version": "3.7.3"
  }
 },
 "nbformat": 4,
 "nbformat_minor": 2
}
